{
  "cells": [
    {
      "cell_type": "raw",
      "metadata": {},
      "source": [
        "---\n",
        "title: \"Client Report - [Insert Project Title]\"\n",
        "subtitle: \"Course DS 250\"\n",
        "author: \"[STUDENT NAME]\"\n",
        "format:\n",
        "  html:\n",
        "    self-contained: true\n",
        "    page-layout: full\n",
        "    title-block-banner: true\n",
        "    toc: true\n",
        "    toc-depth: 3\n",
        "    toc-location: body\n",
        "    number-sections: false\n",
        "    html-math-method: katex\n",
        "    code-fold: true\n",
        "    code-summary: \"Show the code\"\n",
        "    code-overflow: wrap\n",
        "    code-copy: hover\n",
        "    code-tools:\n",
        "        source: false\n",
        "        toggle: true\n",
        "        caption: See code\n",
        "execute: \n",
        "  warning: false\n",
        "    \n",
        "---"
      ],
      "id": "788d8556"
    },
    {
      "cell_type": "code",
      "metadata": {},
      "source": [
        "#| label: libraries\n",
        "#| include: false\n",
        "import pandas as pd\n",
        "import numpy as np\n",
        "import plotly.express as px"
      ],
      "id": "libraries",
      "execution_count": null,
      "outputs": []
    },
    {
      "cell_type": "code",
      "metadata": {},
      "source": [
        "from sklearn.model_selection import train_test_split\n",
        "from sklearn.linear_model import LinearRegression\n",
        "from sklearn.ensemble import RandomForestClassifier\n",
        "from sklearn import tree\n",
        "from sklearn import metrics"
      ],
      "id": "ab2b9ded",
      "execution_count": null,
      "outputs": []
    },
    {
      "cell_type": "markdown",
      "metadata": {},
      "source": [
        "## Elevator pitch\n",
        "\n",
        "_paste your elevator pitch here_\n",
        "_A SHORT (4-5 SENTENCES) PARAGRAPH THAT `DESCRIBES KEY INSIGHTS` TAKEN FROM METRICS IN THE PROJECT RESULTS THINK TOP OR MOST IMPORTANT RESULTS._\n"
      ],
      "id": "687e0434"
    },
    {
      "cell_type": "markdown",
      "metadata": {},
      "source": [
        "#| label: project data\n",
        "#| code-summary: Read and format project data\n",
        "# Include and execute your code here\n",
        "df = pd.read_csv(\"https://raw.githubusercontent.com/byuidatascience/data4dwellings/master/data-raw/dwellings_ml/dwellings_ml.csv\")\n",
        " ```\n",
        "\n",
        "\n",
        "__Highlight the Questions and Tasks__\n",
        "\n",
        "## QUESTION|TASK 1\n",
        "\n",
        "__Create 2-3 charts that evaluate potential relationships between the home variables and before1980. Explain what you learn from the charts that could help a machine learning algorithm.__\n",
        "\n",
        "_After 1980, there is a noticeable rise in both the livable space density and the net price of homes, suggesting a possible correlation between the construction year and the size and cost of the properties._\n"
      ],
      "id": "49959cf6"
    },
    {
      "cell_type": "code",
      "metadata": {},
      "source": [
        "#| label: Q1 chart 1\n",
        "#| code-summary: plot example\n",
        "#| fig-align: center\n",
        "# Include and execute your code here\n",
        "subset = df.filter(['before1980', 'yrbuilt', 'netprice', 'numbdrm', 'numbaths', 'nocars', 'sprice', 'smonth', 'livearea', 'deduct', 'stories', 'livearea',])\n",
        "\n",
        "subset['color'] = subset['before1980'].apply(lambda x: 'Before 1980' if x else 'After 1980')\n",
        "\n",
        "color_map_labels = {'Before 1980': 'blue', 'After 1980': 'red'}\n",
        "\n",
        "chart = px.scatter(subset,\n",
        "    title='Liveable Area versus house build year',\n",
        "    x=\"yrbuilt\", \n",
        "    y=\"livearea\",\n",
        "    color=\"color\",\n",
        "    color_discrete_map=color_map_labels\n",
        ")\n",
        "\n",
        "chart.update_layout(\n",
        "    xaxis_title=\"Year Built\",\n",
        "    yaxis_title=\"Liveable Area\"\n",
        ")\n",
        "\n",
        "chart.show()"
      ],
      "id": "Q1-chart-1",
      "execution_count": null,
      "outputs": []
    },
    {
      "cell_type": "markdown",
      "metadata": {},
      "source": [
        "_The chart shows a siginificant increase in quantity of homes with higher amounts of liveable area in them after 1980._\n"
      ],
      "id": "674d01c2"
    },
    {
      "cell_type": "code",
      "metadata": {},
      "source": [
        "#| label: Q1 chart 2\n",
        "#| code-summary: plot example\n",
        "#| fig-align: center\n",
        "# Include and execute your code here\n",
        "\n",
        "subset = df.filter(['before1980', 'yrbuilt', 'netprice', 'numbdrm', 'numbaths', 'nocars'])\n",
        "\n",
        "subset['color'] = subset['before1980'].apply(lambda x: 'Before 1980' if x else 'After 1980')\n",
        "\n",
        "color_map_labels = {'Before 1980': 'blue', 'After 1980': 'red'}\n",
        "\n",
        "chart = px.scatter(subset,\n",
        "    title=\"Comparing Net price and Build Year\",\n",
        "    x=\"yrbuilt\", \n",
        "    y=\"netprice\",\n",
        "    color=\"color\",\n",
        "    color_discrete_map=color_map_labels\n",
        "\n",
        ")\n",
        "\n",
        "chart.update_layout(\n",
        "    xaxis_title=\"Year Built\",\n",
        "    yaxis_title=\"Net Price\"\n",
        ")\n",
        "\n",
        "chart.show()"
      ],
      "id": "Q1-chart-2",
      "execution_count": null,
      "outputs": []
    },
    {
      "cell_type": "markdown",
      "metadata": {},
      "source": [
        "_This chart also shows an increase in the quantity of more expensive homes after the year of 1980. There are a few outliers in the data prior to 1980, but not enough to change the data._\n",
        "\n",
        "## QUESTION|TASK 2\n",
        "\n",
        "__Build a classification model labeling houses as being built “before 1980” or “during or after 1980”. Your goal is to reach or exceed 90% accuracy. Explain your final model choice (algorithm, tuning parameters, etc) and describe what other models you tried.__\n",
        "\n",
        "_The model below achieves a accuracy of 90%. Although houses that were built before 1980 it has a little bit harder time predicting the right value. On the other hand it does very well predicting houses built during or after 1980. Scoring above 90% in all of the categories of Precision, Recall, F1-score, and Support._\n"
      ],
      "id": "318488f6"
    },
    {
      "cell_type": "code",
      "metadata": {},
      "source": [
        "#| label: Q2\n",
        "#| code-summary: Read and format data\n",
        "# Include and execute your code here\n",
        "\n",
        "X_pred = df.drop(df.filter(regex = 'before1980|yrbuilt|parcel').columns, axis = 1)\n",
        "\n",
        "y_pred = df.filter(regex = \"before1980\")\n",
        "\n",
        "X_train, X_test, y_train, y_test = train_test_split(\n",
        "    X_pred, y_pred, test_size = .32, random_state = 78)\n"
      ],
      "id": "Q2",
      "execution_count": null,
      "outputs": []
    },
    {
      "cell_type": "markdown",
      "metadata": {},
      "source": [
        "_include figures in chunks and discuss your findings in the figure._\n"
      ],
      "id": "1109a682"
    },
    {
      "cell_type": "code",
      "metadata": {},
      "source": [
        "#| label: chart\n",
        "clf = tree.DecisionTreeClassifier()\n",
        "clf = clf.fit(X_train, y_train)\n",
        "y_pred = clf.predict(X_test)\n",
        "y_probs = clf.predict_proba(X_test)"
      ],
      "id": "chart",
      "execution_count": null,
      "outputs": []
    },
    {
      "cell_type": "code",
      "metadata": {},
      "source": [
        "print(metrics.classification_report(y_test, y_pred))"
      ],
      "id": "a99d2a63",
      "execution_count": null,
      "outputs": []
    },
    {
      "cell_type": "markdown",
      "metadata": {},
      "source": [
        "## QUESTION|TASK 3\n",
        "\n",
        "__Justify your classification model by discussing the most important features selected by your model. This discussion should include a chart and a description of the features.__\n",
        "\n",
        "_The most important features are listed by their importance values in descending order. The graphic gives another look at the importance values. The decision tree uses arcstyle_ONE-STORY to base a lot of its predictions as well as gartype_Att, quality_C and livearea._\n"
      ],
      "id": "7f891072"
    },
    {
      "cell_type": "code",
      "metadata": {},
      "source": [
        "feature_importance = clf.feature_importances_\n",
        "feature_names = X_train.columns\n",
        "\n",
        "# Create a dictionary to associate feature names with their importance values\n",
        "feature_importance_dict = dict(zip(feature_names, feature_importance))\n",
        "\n",
        "# Sort the dictionary by importance values in descending order\n",
        "sorted_feature_importance = sorted(feature_importance_dict.items(), key=lambda x: x[1], reverse=True)\n",
        "\n",
        "# Display the top features and their importance values\n",
        "for feature, importance in sorted_feature_importance:\n",
        "    print(f\"Feature: {feature}, Importance: {importance}\")"
      ],
      "id": "ffebfbda",
      "execution_count": null,
      "outputs": []
    },
    {
      "cell_type": "code",
      "metadata": {},
      "source": [
        "#| label: Q3\n",
        "#| code-summary: Read and format data\n",
        "# Include and execute your code here\n",
        "df_features = pd.DataFrame(\n",
        "    {'f_names': X_train.columns, \n",
        "    'f_values': clf.feature_importances_}).sort_values('f_values', ascending = False)"
      ],
      "id": "Q3",
      "execution_count": null,
      "outputs": []
    },
    {
      "cell_type": "markdown",
      "metadata": {},
      "source": [
        "_include figures in chunks and discuss your findings in the figure._\n"
      ],
      "id": "a3996893"
    },
    {
      "cell_type": "code",
      "metadata": {},
      "source": [
        "#| label: Q3 feature importance chart!!!!\n",
        "#| code-summary: plot example\n",
        "#| fig-cap: My useless chart\n",
        "#| fig-align: center\n",
        "# Include and execute your code here\n",
        "chart = px.bar(df_features.head(10),\n",
        "    x='f_values', \n",
        "    y='f_names'\n",
        ")\n",
        "\n",
        "chart.update_layout(yaxis={'categoryorder':'total ascending'})"
      ],
      "id": "Q3-feature-importance-chart",
      "execution_count": null,
      "outputs": []
    },
    {
      "cell_type": "markdown",
      "metadata": {},
      "source": [
        "## QUESTION|TASK 4\n",
        "\n",
        "__Describe the quality of your classification model using 2-3 different evaluation metrics. You also need to explain how to interpret each of the evaluation metrics you use.__\n",
        "\n",
        "_The quality of the model is on the high end by having an accuracy of 90%, a precisinon of 90% and a recall of 90%. Having 90% of the houses correctly classified is really good. 90% of the houses that are lebeld as built before 1980 are actually bulit before 1980. As well as correctly identifying 90% of the houses built before 1980._\n"
      ],
      "id": "5cdcb680"
    },
    {
      "cell_type": "code",
      "metadata": {},
      "source": [
        "#| label: Q4\n",
        "#| code-summary: Read and format data\n",
        "# Include and execute your code here\n",
        "\n",
        "print(metrics.classification_report(y_test, y_pred))"
      ],
      "id": "Q4",
      "execution_count": null,
      "outputs": []
    }
  ],
  "metadata": {
    "kernelspec": {
      "name": "python3",
      "language": "python",
      "display_name": "Python 3 (ipykernel)"
    }
  },
  "nbformat": 4,
  "nbformat_minor": 5
}